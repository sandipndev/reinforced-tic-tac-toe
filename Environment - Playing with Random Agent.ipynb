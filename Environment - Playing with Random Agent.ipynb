{
 "cells": [
  {
   "cell_type": "code",
   "execution_count": 1,
   "metadata": {},
   "outputs": [],
   "source": [
    "import numpy as np\n",
    "import matplotlib.pyplot as plt\n",
    "from environment import TicTacToeEnv as ttte"
   ]
  },
  {
   "cell_type": "markdown",
   "metadata": {},
   "source": [
    "## Let's play a game"
   ]
  },
  {
   "cell_type": "code",
   "execution_count": 2,
   "metadata": {},
   "outputs": [],
   "source": [
    "# To show how the game went at the end of the episode\n",
    "game_state_images = []\n",
    "game_state_rewards = []"
   ]
  },
  {
   "cell_type": "code",
   "execution_count": 3,
   "metadata": {},
   "outputs": [
    {
     "name": "stdout",
     "output_type": "stream",
     "text": [
      "[[0 0 0]\n",
      " [0 0 0]\n",
      " [0 0 0]]\n"
     ]
    }
   ],
   "source": [
    "# Initialize the board\n",
    "board = ttte()\n",
    "\n",
    "# Just like gym, resetting the environment to get the initial observations\n",
    "print(board.reset())"
   ]
  },
  {
   "cell_type": "markdown",
   "metadata": {},
   "source": [
    "**Side Note** -\n",
    "The numbers inside the array correlate to the game as follows:\n",
    "\n",
    "| Number | Definition                |\n",
    "|--------|---------------------------|\n",
    "| 0      | Empty Cell                |\n",
    "| 1      | Player X - User           |\n",
    "| 2      | Player O - Random Agent   |"
   ]
  },
  {
   "cell_type": "code",
   "execution_count": 4,
   "metadata": {},
   "outputs": [
    {
     "name": "stdout",
     "output_type": "stream",
     "text": [
      "60ad80569e28127bef557543fe46677f\n"
     ]
    }
   ],
   "source": [
    "# Storing image\n",
    "game_state_images.append(board.render_image)\n",
    "\n",
    "# Unique value for the current positions\n",
    "print(board.state_hash)"
   ]
  },
  {
   "cell_type": "code",
   "execution_count": 5,
   "metadata": {},
   "outputs": [
    {
     "name": "stdout",
     "output_type": "stream",
     "text": [
      "[[0 0]\n",
      " [0 1]\n",
      " [0 2]\n",
      " [1 0]\n",
      " [1 1]\n",
      " [1 2]\n",
      " [2 0]\n",
      " [2 1]\n",
      " [2 2]]\n"
     ]
    }
   ],
   "source": [
    "# Possible positions I can play on\n",
    "print(board.action_space)"
   ]
  },
  {
   "cell_type": "code",
   "execution_count": 6,
   "metadata": {},
   "outputs": [
    {
     "name": "stdout",
     "output_type": "stream",
     "text": [
      "(array([[2, 0, 0],\n",
      "       [0, 1, 0],\n",
      "       [0, 0, 0]]), -0.1, False)\n"
     ]
    }
   ],
   "source": [
    "# Let's hit on the center - [1,1]\n",
    "hit = board.step(np.array([1,1]))\n",
    "game_state_rewards.append(hit[1])\n",
    "print(hit)"
   ]
  },
  {
   "cell_type": "markdown",
   "metadata": {},
   "source": [
    "Let's analyze what was returned from the step function:\n",
    "\n",
    "```python\n",
    "board.step(action):\n",
    "    \"\"\" Steps onto another state as defined by the given action\n",
    "    @return 3-tuple (new_state, reward_for_current_action, is_episode_over)\n",
    "    \"\"\"\n",
    "```\n",
    "\n",
    "Hence it returns the following:\n",
    "- New Board State (Numpy Array)\n",
    "- Reward for this action we just took\n",
    "- True/False on if the Episode is finished or not (Termination)"
   ]
  },
  {
   "cell_type": "code",
   "execution_count": 7,
   "metadata": {},
   "outputs": [
    {
     "data": {
      "text/plain": [
       "<matplotlib.image.AxesImage at 0x228df240d68>"
      ]
     },
     "execution_count": 7,
     "metadata": {},
     "output_type": "execute_result"
    },
    {
     "data": {
      "image/png": "[encoded data removed]",
      "text/plain": [
       "<Figure size 432x288 with 1 Axes>"
      ]
     },
     "metadata": {
      "needs_background": "light"
     },
     "output_type": "display_data"
    }
   ],
   "source": [
    "# It may help to see what the current situation is, in the game\n",
    "plt.imshow(board.render_image)"
   ]
  },
  {
   "cell_type": "code",
   "execution_count": 8,
   "metadata": {},
   "outputs": [
    {
     "name": "stdout",
     "output_type": "stream",
     "text": [
      "e7b297b2ad2e23a6b0f7785136ab65a7\n"
     ]
    }
   ],
   "source": [
    "# Storing image\n",
    "game_state_images.append(board.render_image)\n",
    "\n",
    "# Unique value for the current positions\n",
    "print(board.state_hash)"
   ]
  },
  {
   "cell_type": "code",
   "execution_count": 9,
   "metadata": {},
   "outputs": [
    {
     "name": "stdout",
     "output_type": "stream",
     "text": [
      "(array([[2, 0, 0],\n",
      "       [0, 1, 0],\n",
      "       [0, 0, 0]]), -0.9, False)\n"
     ]
    }
   ],
   "source": [
    "# Let's keep on playing\n",
    "hit = board.step(np.array([0,0]))\n",
    "game_state_rewards.append(hit[1])\n",
    "print(hit)\n",
    "game_state_images.append(board.render_image)"
   ]
  },
  {
   "cell_type": "code",
   "execution_count": 10,
   "metadata": {},
   "outputs": [
    {
     "name": "stdout",
     "output_type": "stream",
     "text": [
      "(array([[2, 0, 0],\n",
      "       [0, 1, 0],\n",
      "       [1, 0, 2]]), -0.1, False)\n"
     ]
    }
   ],
   "source": [
    "hit = board.step(np.array([2,0]))\n",
    "game_state_rewards.append(hit[1])\n",
    "print(hit)\n",
    "game_state_images.append(board.render_image)"
   ]
  },
  {
   "cell_type": "code",
   "execution_count": 11,
   "metadata": {},
   "outputs": [
    {
     "name": "stdout",
     "output_type": "stream",
     "text": [
      "(array([[2, 0, 1],\n",
      "       [0, 1, 0],\n",
      "       [1, 0, 2]]), 1.0, True)\n"
     ]
    }
   ],
   "source": [
    "hit = board.step(np.array([0,2]))\n",
    "game_state_rewards.append(hit[1])\n",
    "print(hit)\n",
    "game_state_images.append(board.render_image)"
   ]
  },
  {
   "cell_type": "markdown",
   "metadata": {},
   "source": [
    "As the last value returned was `True`, episode is over, let's traverse through the episode, step by step"
   ]
  },
  {
   "cell_type": "code",
   "execution_count": 12,
   "metadata": {},
   "outputs": [
    {
     "data": {
      "image/png": "[encoded data removed]",
      "text/plain": [
       "<Figure size 1080x1080 with 5 Axes>"
      ]
     },
     "metadata": {},
     "output_type": "display_data"
    }
   ],
   "source": [
    "# Drawing the images\n",
    "\n",
    "plt.subplots(figsize=(15,15))\n",
    "for i in range(len(game_state_images)):\n",
    "    plt.subplot(1,5,i+1)\n",
    "    plt.title(\"State %d\"%i)\n",
    "    plt.xticks([])\n",
    "    plt.yticks([])\n",
    "    plt.imshow(game_state_images[i])\n",
    "    if i>0:    plt.xlabel(game_state_rewards[i-1]) # Reward"
   ]
  },
  {
   "cell_type": "markdown",
   "metadata": {},
   "source": [
    "### The Reward values are as follows:\n",
    "\n",
    "|Reward |State                          |\n",
    "|-------|-------------------------------|\n",
    "|-1     |Environment (Random Player) Win|\n",
    "|-0.9   |Wrong position (already filled)|\n",
    "|-0.1   |Nothing happened               |\n",
    "|0      |Tie                            |\n",
    "|1      |Agent (Player) Wins            |"
   ]
  },
  {
   "cell_type": "markdown",
   "metadata": {},
   "source": [
    "Also, Rendering images takes some time. So, try to render images after some set interval to see how your model is trianing."
   ]
  }
 ],
 "metadata": {
  "kernelspec": {
   "display_name": "Python 3",
   "language": "python",
   "name": "python3"
  },
  "language_info": {
   "codemirror_mode": {
    "name": "ipython",
    "version": 3
   },
   "file_extension": ".py",
   "mimetype": "text/x-python",
   "name": "python",
   "nbconvert_exporter": "python",
   "pygments_lexer": "ipython3",
   "version": "3.6.7"
  }
 },
 "nbformat": 4,
 "nbformat_minor": 2
}
